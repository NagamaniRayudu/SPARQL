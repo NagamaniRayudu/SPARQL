{
 "cells": [
  {
   "cell_type": "markdown",
   "metadata": {},
   "source": [
    "### This notebook will illustrate on how to access Wikidata using SPARQL"
   ]
  },
  {
   "cell_type": "markdown",
   "metadata": {},
   "source": [
    "### Import SPARQLWrapper and Pandas"
   ]
  },
  {
   "cell_type": "code",
   "execution_count": 1,
   "metadata": {},
   "outputs": [],
   "source": [
    "from SPARQLWrapper import SPARQLWrapper, JSON\n",
    "import pandas as pd"
   ]
  },
  {
   "cell_type": "markdown",
   "metadata": {},
   "source": [
    "#### The function will fetch all the values for which Mumbai is an instance of and converts the result into json and further into dataframe"
   ]
  },
  {
   "cell_type": "code",
   "execution_count": 2,
   "metadata": {},
   "outputs": [],
   "source": [
    "def access_wiki_data():\n",
    "    '''\n",
    "    Function to make a call to wikidata. set the wikidata sparql endpoint and query.\n",
    "    wd:Q1156 is an id for the entity \"Mumbai\". P31 is an id for 'instanceof' property\n",
    "    '''\n",
    "    sparql = SPARQLWrapper(\"http://query.wikidata.org/sparql\")\n",
    "    sparql.setQuery(\"\"\"\n",
    "                    PREFIX wd: <http://www.wikidata.org/entity/>\n",
    "                    PREFIX wdt: <http://www.wikidata.org/prop/direct/>\n",
    "                    \n",
    "                    SELECT ?item\n",
    "                    WHERE \n",
    "                    {\n",
    "                        wd:Q1156 wdt:P31 ?item .\n",
    "                    }  \n",
    "                  \"\"\")\n",
    "    sparql.setReturnFormat(JSON)\n",
    "    result = sparql.query().convert()\n",
    "    results_df = pd.io.json.json_normalize(result['results']['bindings'])\n",
    "    return results_df"
   ]
  },
  {
   "cell_type": "code",
   "execution_count": 3,
   "metadata": {},
   "outputs": [
    {
     "data": {
      "text/html": [
       "<div>\n",
       "<style scoped>\n",
       "    .dataframe tbody tr th:only-of-type {\n",
       "        vertical-align: middle;\n",
       "    }\n",
       "\n",
       "    .dataframe tbody tr th {\n",
       "        vertical-align: top;\n",
       "    }\n",
       "\n",
       "    .dataframe thead th {\n",
       "        text-align: right;\n",
       "    }\n",
       "</style>\n",
       "<table border=\"1\" class=\"dataframe\">\n",
       "  <thead>\n",
       "    <tr style=\"text-align: right;\">\n",
       "      <th></th>\n",
       "      <th>item.type</th>\n",
       "      <th>item.value</th>\n",
       "    </tr>\n",
       "  </thead>\n",
       "  <tbody>\n",
       "    <tr>\n",
       "      <th>0</th>\n",
       "      <td>uri</td>\n",
       "      <td>http://www.wikidata.org/entity/Q515</td>\n",
       "    </tr>\n",
       "  </tbody>\n",
       "</table>\n",
       "</div>"
      ],
      "text/plain": [
       "  item.type                           item.value\n",
       "0       uri  http://www.wikidata.org/entity/Q515"
      ]
     },
     "execution_count": 3,
     "metadata": {},
     "output_type": "execute_result"
    }
   ],
   "source": [
    "results = access_wiki_data()\n",
    "results"
   ]
  },
  {
   "cell_type": "markdown",
   "metadata": {},
   "source": [
    "#### The below function will show how to access the labels. "
   ]
  },
  {
   "cell_type": "code",
   "execution_count": 4,
   "metadata": {},
   "outputs": [],
   "source": [
    "def access_wiki_data_withLabel():\n",
    "    sparql = SPARQLWrapper(\"http://query.wikidata.org/sparql\")\n",
    "    sparql.setQuery(\"\"\"\n",
    "                    PREFIX wd: <http://www.wikidata.org/entity/>\n",
    "                    PREFIX wdt: <http://www.wikidata.org/prop/direct/>\n",
    "                    PREFIX wikibase: <http://wikiba.se/ontology#>\n",
    "                    PREFIX bd: <http://www.bigdata.com/rdf#>\n",
    "                    \n",
    "                    SELECT ?item ?itemLabel\n",
    "                    WHERE \n",
    "                    {\n",
    "                        wd:Q1156 wdt:P31 ?item .\n",
    "                        SERVICE wikibase:label {bd:serviceParam wikibase:language \"en\" .}\n",
    "                    } \n",
    "                    \n",
    "                  \"\"\")\n",
    "    sparql.setReturnFormat(JSON)\n",
    "    result = sparql.query().convert()\n",
    "    results_df = pd.io.json.json_normalize(result['results']['bindings'])\n",
    "    return results_df"
   ]
  },
  {
   "cell_type": "code",
   "execution_count": 5,
   "metadata": {},
   "outputs": [
    {
     "data": {
      "text/html": [
       "<div>\n",
       "<style scoped>\n",
       "    .dataframe tbody tr th:only-of-type {\n",
       "        vertical-align: middle;\n",
       "    }\n",
       "\n",
       "    .dataframe tbody tr th {\n",
       "        vertical-align: top;\n",
       "    }\n",
       "\n",
       "    .dataframe thead th {\n",
       "        text-align: right;\n",
       "    }\n",
       "</style>\n",
       "<table border=\"1\" class=\"dataframe\">\n",
       "  <thead>\n",
       "    <tr style=\"text-align: right;\">\n",
       "      <th></th>\n",
       "      <th>item.type</th>\n",
       "      <th>item.value</th>\n",
       "      <th>itemLabel.type</th>\n",
       "      <th>itemLabel.value</th>\n",
       "      <th>itemLabel.xml:lang</th>\n",
       "    </tr>\n",
       "  </thead>\n",
       "  <tbody>\n",
       "    <tr>\n",
       "      <th>0</th>\n",
       "      <td>uri</td>\n",
       "      <td>http://www.wikidata.org/entity/Q515</td>\n",
       "      <td>literal</td>\n",
       "      <td>city</td>\n",
       "      <td>en</td>\n",
       "    </tr>\n",
       "  </tbody>\n",
       "</table>\n",
       "</div>"
      ],
      "text/plain": [
       "  item.type                           item.value itemLabel.type  \\\n",
       "0       uri  http://www.wikidata.org/entity/Q515        literal   \n",
       "\n",
       "  itemLabel.value itemLabel.xml:lang  \n",
       "0            city                 en  "
      ]
     },
     "execution_count": 5,
     "metadata": {},
     "output_type": "execute_result"
    }
   ],
   "source": [
    "results = access_wiki_data_withLabel()\n",
    "results"
   ]
  },
  {
   "cell_type": "markdown",
   "metadata": {},
   "source": [
    "#### The below function will show to how to access the data with entity name. for example with entity name as \"Mumbai\" instead of entity id for Mumbai which is Q1156"
   ]
  },
  {
   "cell_type": "code",
   "execution_count": 6,
   "metadata": {},
   "outputs": [],
   "source": [
    "def access_wiki_data_with_entity_name():\n",
    "    sparql = SPARQLWrapper(\"http://query.wikidata.org/sparql\")\n",
    "    sparql.setQuery(\"\"\"\n",
    "                    PREFIX wd: <http://www.wikidata.org/entity/>\n",
    "                    PREFIX wdt: <http://www.wikidata.org/prop/direct/>\n",
    "                    PREFIX wikibase: <http://wikiba.se/ontology#>\n",
    "                    PREFIX bd: <http://www.bigdata.com/rdf#>\n",
    "                    \n",
    "                    SELECT ?itemLabel ?prop ?propLabel ?value ?valueLabel\n",
    "                    WHERE \n",
    "                    {\n",
    "                        ?item ?prop \"Mumbai\"@en .\n",
    "                        ?item wdt:P31 ?value .\n",
    "                        SERVICE wikibase:label {bd:serviceParam wikibase:language \"en\" .}\n",
    "                    } \n",
    "                    \n",
    "                  \"\"\")\n",
    "    sparql.setReturnFormat(JSON)\n",
    "    result = sparql.query().convert()\n",
    "    results_df = pd.io.json.json_normalize(result['results']['bindings'])\n",
    "    return results_df"
   ]
  },
  {
   "cell_type": "code",
   "execution_count": 7,
   "metadata": {},
   "outputs": [
    {
     "data": {
      "text/html": [
       "<div>\n",
       "<style scoped>\n",
       "    .dataframe tbody tr th:only-of-type {\n",
       "        vertical-align: middle;\n",
       "    }\n",
       "\n",
       "    .dataframe tbody tr th {\n",
       "        vertical-align: top;\n",
       "    }\n",
       "\n",
       "    .dataframe thead th {\n",
       "        text-align: right;\n",
       "    }\n",
       "</style>\n",
       "<table border=\"1\" class=\"dataframe\">\n",
       "  <thead>\n",
       "    <tr style=\"text-align: right;\">\n",
       "      <th></th>\n",
       "      <th>itemLabel.type</th>\n",
       "      <th>itemLabel.value</th>\n",
       "      <th>itemLabel.xml:lang</th>\n",
       "      <th>prop.type</th>\n",
       "      <th>prop.value</th>\n",
       "      <th>propLabel.type</th>\n",
       "      <th>propLabel.value</th>\n",
       "      <th>value.type</th>\n",
       "      <th>value.value</th>\n",
       "      <th>valueLabel.type</th>\n",
       "      <th>valueLabel.value</th>\n",
       "      <th>valueLabel.xml:lang</th>\n",
       "    </tr>\n",
       "  </thead>\n",
       "  <tbody>\n",
       "    <tr>\n",
       "      <th>0</th>\n",
       "      <td>literal</td>\n",
       "      <td>Mumbai</td>\n",
       "      <td>en</td>\n",
       "      <td>uri</td>\n",
       "      <td>http://www.w3.org/2000/01/rdf-schema#label</td>\n",
       "      <td>literal</td>\n",
       "      <td>http://www.w3.org/2000/01/rdf-schema#label</td>\n",
       "      <td>uri</td>\n",
       "      <td>http://www.wikidata.org/entity/Q515</td>\n",
       "      <td>literal</td>\n",
       "      <td>city</td>\n",
       "      <td>en</td>\n",
       "    </tr>\n",
       "    <tr>\n",
       "      <th>1</th>\n",
       "      <td>literal</td>\n",
       "      <td>Mumbai</td>\n",
       "      <td>en</td>\n",
       "      <td>uri</td>\n",
       "      <td>http://www.w3.org/2000/01/rdf-schema#label</td>\n",
       "      <td>literal</td>\n",
       "      <td>http://www.w3.org/2000/01/rdf-schema#label</td>\n",
       "      <td>uri</td>\n",
       "      <td>http://www.wikidata.org/entity/Q4167410</td>\n",
       "      <td>literal</td>\n",
       "      <td>Wikimedia disambiguation page</td>\n",
       "      <td>en</td>\n",
       "    </tr>\n",
       "  </tbody>\n",
       "</table>\n",
       "</div>"
      ],
      "text/plain": [
       "  itemLabel.type itemLabel.value itemLabel.xml:lang prop.type  \\\n",
       "0        literal          Mumbai                 en       uri   \n",
       "1        literal          Mumbai                 en       uri   \n",
       "\n",
       "                                   prop.value propLabel.type  \\\n",
       "0  http://www.w3.org/2000/01/rdf-schema#label        literal   \n",
       "1  http://www.w3.org/2000/01/rdf-schema#label        literal   \n",
       "\n",
       "                              propLabel.value value.type  \\\n",
       "0  http://www.w3.org/2000/01/rdf-schema#label        uri   \n",
       "1  http://www.w3.org/2000/01/rdf-schema#label        uri   \n",
       "\n",
       "                               value.value valueLabel.type  \\\n",
       "0      http://www.wikidata.org/entity/Q515         literal   \n",
       "1  http://www.wikidata.org/entity/Q4167410         literal   \n",
       "\n",
       "                valueLabel.value valueLabel.xml:lang  \n",
       "0                           city                  en  \n",
       "1  Wikimedia disambiguation page                  en  "
      ]
     },
     "execution_count": 7,
     "metadata": {},
     "output_type": "execute_result"
    }
   ],
   "source": [
    "results = access_wiki_data_with_entity_name()\n",
    "results"
   ]
  },
  {
   "cell_type": "code",
   "execution_count": 8,
   "metadata": {},
   "outputs": [
    {
     "data": {
      "text/html": [
       "<div>\n",
       "<style scoped>\n",
       "    .dataframe tbody tr th:only-of-type {\n",
       "        vertical-align: middle;\n",
       "    }\n",
       "\n",
       "    .dataframe tbody tr th {\n",
       "        vertical-align: top;\n",
       "    }\n",
       "\n",
       "    .dataframe thead th {\n",
       "        text-align: right;\n",
       "    }\n",
       "</style>\n",
       "<table border=\"1\" class=\"dataframe\">\n",
       "  <thead>\n",
       "    <tr style=\"text-align: right;\">\n",
       "      <th></th>\n",
       "      <th>itemLabel.value</th>\n",
       "      <th>value.value</th>\n",
       "      <th>valueLabel.value</th>\n",
       "    </tr>\n",
       "  </thead>\n",
       "  <tbody>\n",
       "    <tr>\n",
       "      <th>0</th>\n",
       "      <td>Mumbai</td>\n",
       "      <td>http://www.wikidata.org/entity/Q515</td>\n",
       "      <td>city</td>\n",
       "    </tr>\n",
       "    <tr>\n",
       "      <th>1</th>\n",
       "      <td>Mumbai</td>\n",
       "      <td>http://www.wikidata.org/entity/Q4167410</td>\n",
       "      <td>Wikimedia disambiguation page</td>\n",
       "    </tr>\n",
       "  </tbody>\n",
       "</table>\n",
       "</div>"
      ],
      "text/plain": [
       "  itemLabel.value                              value.value  \\\n",
       "0          Mumbai      http://www.wikidata.org/entity/Q515   \n",
       "1          Mumbai  http://www.wikidata.org/entity/Q4167410   \n",
       "\n",
       "                valueLabel.value  \n",
       "0                           city  \n",
       "1  Wikimedia disambiguation page  "
      ]
     },
     "execution_count": 8,
     "metadata": {},
     "output_type": "execute_result"
    }
   ],
   "source": [
    "results[['itemLabel.value', 'value.value', 'valueLabel.value']]"
   ]
  },
  {
   "cell_type": "markdown",
   "metadata": {},
   "source": [
    "#### This function will show to parameterize the SPARQL Query. This function will take name as input and set it to SPARQL query"
   ]
  },
  {
   "cell_type": "code",
   "execution_count": 9,
   "metadata": {},
   "outputs": [],
   "source": [
    "def access_wiki_with_parameterized_data(name):\n",
    "    name = '\"'+name+'\"'\n",
    "    sparql = SPARQLWrapper(\"http://query.wikidata.org/sparql\")\n",
    "    sparql.setQuery(\"\"\"\n",
    "                    PREFIX wd: <http://www.wikidata.org/entity/>\n",
    "                    PREFIX wdt: <http://www.wikidata.org/prop/direct/>\n",
    "                    PREFIX wikibase: <http://wikiba.se/ontology#>\n",
    "                    PREFIX bd: <http://www.bigdata.com/rdf#>\n",
    "                    \n",
    "                    SELECT ?itemLabel ?prop ?propLabel ?value ?valueLabel\n",
    "                    WHERE \n",
    "                    {\n",
    "                        ?item ?prop %s@en .\n",
    "                        ?item wdt:P31 ?value .\n",
    "                        SERVICE wikibase:label {bd:serviceParam wikibase:language \"en\" .}\n",
    "                    } \n",
    "                    \n",
    "                  \"\"\" % name)\n",
    "    sparql.setReturnFormat(JSON)\n",
    "    result = sparql.query().convert()\n",
    "    results_df = pd.io.json.json_normalize(result['results']['bindings'])\n",
    "    return results_df"
   ]
  },
  {
   "cell_type": "code",
   "execution_count": 10,
   "metadata": {},
   "outputs": [
    {
     "data": {
      "text/html": [
       "<div>\n",
       "<style scoped>\n",
       "    .dataframe tbody tr th:only-of-type {\n",
       "        vertical-align: middle;\n",
       "    }\n",
       "\n",
       "    .dataframe tbody tr th {\n",
       "        vertical-align: top;\n",
       "    }\n",
       "\n",
       "    .dataframe thead th {\n",
       "        text-align: right;\n",
       "    }\n",
       "</style>\n",
       "<table border=\"1\" class=\"dataframe\">\n",
       "  <thead>\n",
       "    <tr style=\"text-align: right;\">\n",
       "      <th></th>\n",
       "      <th>itemLabel.type</th>\n",
       "      <th>itemLabel.value</th>\n",
       "      <th>itemLabel.xml:lang</th>\n",
       "      <th>prop.type</th>\n",
       "      <th>prop.value</th>\n",
       "      <th>propLabel.type</th>\n",
       "      <th>propLabel.value</th>\n",
       "      <th>value.type</th>\n",
       "      <th>value.value</th>\n",
       "      <th>valueLabel.type</th>\n",
       "      <th>valueLabel.value</th>\n",
       "      <th>valueLabel.xml:lang</th>\n",
       "    </tr>\n",
       "  </thead>\n",
       "  <tbody>\n",
       "    <tr>\n",
       "      <th>0</th>\n",
       "      <td>literal</td>\n",
       "      <td>Mumbai</td>\n",
       "      <td>en</td>\n",
       "      <td>uri</td>\n",
       "      <td>http://www.w3.org/2000/01/rdf-schema#label</td>\n",
       "      <td>literal</td>\n",
       "      <td>http://www.w3.org/2000/01/rdf-schema#label</td>\n",
       "      <td>uri</td>\n",
       "      <td>http://www.wikidata.org/entity/Q515</td>\n",
       "      <td>literal</td>\n",
       "      <td>city</td>\n",
       "      <td>en</td>\n",
       "    </tr>\n",
       "    <tr>\n",
       "      <th>1</th>\n",
       "      <td>literal</td>\n",
       "      <td>Mumbai</td>\n",
       "      <td>en</td>\n",
       "      <td>uri</td>\n",
       "      <td>http://www.w3.org/2000/01/rdf-schema#label</td>\n",
       "      <td>literal</td>\n",
       "      <td>http://www.w3.org/2000/01/rdf-schema#label</td>\n",
       "      <td>uri</td>\n",
       "      <td>http://www.wikidata.org/entity/Q4167410</td>\n",
       "      <td>literal</td>\n",
       "      <td>Wikimedia disambiguation page</td>\n",
       "      <td>en</td>\n",
       "    </tr>\n",
       "  </tbody>\n",
       "</table>\n",
       "</div>"
      ],
      "text/plain": [
       "  itemLabel.type itemLabel.value itemLabel.xml:lang prop.type  \\\n",
       "0        literal          Mumbai                 en       uri   \n",
       "1        literal          Mumbai                 en       uri   \n",
       "\n",
       "                                   prop.value propLabel.type  \\\n",
       "0  http://www.w3.org/2000/01/rdf-schema#label        literal   \n",
       "1  http://www.w3.org/2000/01/rdf-schema#label        literal   \n",
       "\n",
       "                              propLabel.value value.type  \\\n",
       "0  http://www.w3.org/2000/01/rdf-schema#label        uri   \n",
       "1  http://www.w3.org/2000/01/rdf-schema#label        uri   \n",
       "\n",
       "                               value.value valueLabel.type  \\\n",
       "0      http://www.wikidata.org/entity/Q515         literal   \n",
       "1  http://www.wikidata.org/entity/Q4167410         literal   \n",
       "\n",
       "                valueLabel.value valueLabel.xml:lang  \n",
       "0                           city                  en  \n",
       "1  Wikimedia disambiguation page                  en  "
      ]
     },
     "execution_count": 10,
     "metadata": {},
     "output_type": "execute_result"
    }
   ],
   "source": [
    "results = access_wiki_with_parameterized_data(\"Mumbai\")\n",
    "results"
   ]
  },
  {
   "cell_type": "code",
   "execution_count": 11,
   "metadata": {},
   "outputs": [
    {
     "data": {
      "text/html": [
       "<div>\n",
       "<style scoped>\n",
       "    .dataframe tbody tr th:only-of-type {\n",
       "        vertical-align: middle;\n",
       "    }\n",
       "\n",
       "    .dataframe tbody tr th {\n",
       "        vertical-align: top;\n",
       "    }\n",
       "\n",
       "    .dataframe thead th {\n",
       "        text-align: right;\n",
       "    }\n",
       "</style>\n",
       "<table border=\"1\" class=\"dataframe\">\n",
       "  <thead>\n",
       "    <tr style=\"text-align: right;\">\n",
       "      <th></th>\n",
       "      <th>itemLabel.value</th>\n",
       "      <th>value.value</th>\n",
       "      <th>valueLabel.value</th>\n",
       "    </tr>\n",
       "  </thead>\n",
       "  <tbody>\n",
       "    <tr>\n",
       "      <th>0</th>\n",
       "      <td>Mumbai</td>\n",
       "      <td>http://www.wikidata.org/entity/Q515</td>\n",
       "      <td>city</td>\n",
       "    </tr>\n",
       "    <tr>\n",
       "      <th>1</th>\n",
       "      <td>Mumbai</td>\n",
       "      <td>http://www.wikidata.org/entity/Q4167410</td>\n",
       "      <td>Wikimedia disambiguation page</td>\n",
       "    </tr>\n",
       "  </tbody>\n",
       "</table>\n",
       "</div>"
      ],
      "text/plain": [
       "  itemLabel.value                              value.value  \\\n",
       "0          Mumbai      http://www.wikidata.org/entity/Q515   \n",
       "1          Mumbai  http://www.wikidata.org/entity/Q4167410   \n",
       "\n",
       "                valueLabel.value  \n",
       "0                           city  \n",
       "1  Wikimedia disambiguation page  "
      ]
     },
     "execution_count": 11,
     "metadata": {},
     "output_type": "execute_result"
    }
   ],
   "source": [
    "results[['itemLabel.value', 'value.value', 'valueLabel.value']]"
   ]
  },
  {
   "cell_type": "code",
   "execution_count": null,
   "metadata": {},
   "outputs": [],
   "source": []
  }
 ],
 "metadata": {
  "kernelspec": {
   "display_name": "Python 3",
   "language": "python",
   "name": "python3"
  },
  "language_info": {
   "codemirror_mode": {
    "name": "ipython",
    "version": 3
   },
   "file_extension": ".py",
   "mimetype": "text/x-python",
   "name": "python",
   "nbconvert_exporter": "python",
   "pygments_lexer": "ipython3",
   "version": "3.7.3"
  }
 },
 "nbformat": 4,
 "nbformat_minor": 2
}
